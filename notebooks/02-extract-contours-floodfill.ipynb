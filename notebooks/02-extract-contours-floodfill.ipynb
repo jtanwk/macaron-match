{
 "cells": [
  {
   "cell_type": "markdown",
   "id": "e69881b9",
   "metadata": {},
   "source": [
    "Variant using floodfill to segment out shells. Good if saturation values are significantly different and user can provide plausible ranges for manual HSV-based thresholding, but otherwise canny edge detection is a better general solution. \n",
    "\n",
    "This version also requires well-cropped images with well defined foreground and background, else floodFill will fail.\n",
    "\n",
    "Works MUCH better on test 6 but worse on all other test images than Canny edge detection.\n",
    "\n",
    "TODO: Check if adaptive gaussian thresholding will work on HSV channels well"
   ]
  },
  {
   "cell_type": "code",
   "execution_count": null,
   "id": "6cfad3e6",
   "metadata": {},
   "outputs": [],
   "source": [
    "import os\n",
    "import cv2 \n",
    "import copy\n",
    "import random\n",
    "import numpy as np\n",
    "import pandas as pd\n",
    "import matplotlib.pyplot as plt"
   ]
  },
  {
   "cell_type": "code",
   "execution_count": null,
   "id": "c685c6f9",
   "metadata": {},
   "outputs": [],
   "source": [
    "IMAGE_PATH = os.path.join(\"..\", \"images-cropped\", \"test-6.jpg\")\n",
    "\n",
    "# Read image\n",
    "im = cv2.imread(IMAGE_PATH)\n",
    "im = cv2.cvtColor(im, cv2.COLOR_BGR2RGB)\n",
    "\n",
    "# Plot\n",
    "plt.figure(figsize=(16,16))\n",
    "plt.imshow(im)"
   ]
  },
  {
   "cell_type": "code",
   "execution_count": null,
   "id": "149cb368",
   "metadata": {},
   "outputs": [],
   "source": [
    "# Convert from RGB to HSV encoding\n",
    "im_hsv = cv2.cvtColor(im, cv2.COLOR_BGR2HSV)\n",
    "\n",
    "plt.figure(figsize=(16,16))\n",
    "plt.imshow(im_hsv)"
   ]
  },
  {
   "cell_type": "markdown",
   "id": "7e722ff0",
   "metadata": {},
   "source": [
    "## Threshold based on manually provided HSV range"
   ]
  },
  {
   "cell_type": "code",
   "execution_count": null,
   "id": "6e53ee7d",
   "metadata": {},
   "outputs": [],
   "source": [
    "plt.figure(figsize=(16, 10))\n",
    "COLORS = ('b', 'g', 'r')\n",
    "\n",
    "for idx, i in enumerate(COLORS):\n",
    "    hist = cv2.calcHist([im_hsv], [idx], None, [256], [0, 256])\n",
    "    plt.plot(hist, color=COLORS[idx])\n",
    "    plt.xlim([0, 256])\n",
    "    \n",
    "\n",
    "plt.show()"
   ]
  },
  {
   "cell_type": "code",
   "execution_count": null,
   "id": "28b5d162",
   "metadata": {},
   "outputs": [],
   "source": [
    "# https://stackoverflow.com/questions/61677816/remove-coins-shadow-using-opencv\n",
    "\n",
    "low_h, low_s, low_v = 0, 25, 0\n",
    "high_h, high_s, high_v = 255, 255, 255\n",
    "\n",
    "threshold = cv2.inRange(im_hsv, (low_h, low_s, low_v), (high_h, high_s, high_v))\n",
    "\n",
    "plt.figure(figsize=(16,16))\n",
    "plt.imshow(threshold, cmap='gray')"
   ]
  },
  {
   "cell_type": "markdown",
   "id": "e024414f",
   "metadata": {},
   "source": [
    "## Remove shadows with floodFill"
   ]
  },
  {
   "cell_type": "code",
   "execution_count": null,
   "id": "b130958b",
   "metadata": {},
   "outputs": [],
   "source": [
    "im_floodfill = threshold.copy()\n",
    "h, w = im_floodfill.shape[:2]\n",
    "\n",
    "mask = np.zeros((h + 2, w + 2), np.uint8)\n",
    "cv2.floodFill(im_floodfill, mask, (0, 0), 255)\n",
    "plt.figure(figsize=(16,16))\n",
    "plt.imshow(im_floodfill, cmap='gray')"
   ]
  },
  {
   "cell_type": "code",
   "execution_count": null,
   "id": "ab461c31",
   "metadata": {},
   "outputs": [],
   "source": [
    "im_floodfill_inv = cv2.bitwise_not(im_floodfill)\n",
    "plt.figure(figsize=(16,16))\n",
    "plt.imshow(im_floodfill_inv, cmap='gray')"
   ]
  },
  {
   "cell_type": "code",
   "execution_count": null,
   "id": "90cb7fea",
   "metadata": {},
   "outputs": [],
   "source": [
    "mask = threshold | im_floodfill_inv\n",
    "plt.figure(figsize=(16,16))\n",
    "plt.imshow(mask, cmap='gray')"
   ]
  },
  {
   "cell_type": "markdown",
   "id": "eae3fd7e",
   "metadata": {},
   "source": [
    "## Find Contours"
   ]
  },
  {
   "cell_type": "code",
   "execution_count": null,
   "id": "2ad5b510",
   "metadata": {},
   "outputs": [],
   "source": [
    "cnt, hierarchy = cv2.findContours(mask, cv2.RETR_EXTERNAL, cv2.CHAIN_APPROX_SIMPLE)\n",
    "print(f\"Detected {len(cnt)} contours\")\n",
    "\n",
    "im_temp = copy.deepcopy(im)\n",
    "LINE_COLOR = (255, 0, 0)\n",
    "LINE_THICKNESS = 2\n",
    "cv2.drawContours(im_temp, cnt, -1, LINE_COLOR, LINE_THICKNESS)\n",
    "\n",
    "plt.figure(figsize=(16,16))\n",
    "plt.imshow(im_temp)"
   ]
  },
  {
   "cell_type": "markdown",
   "id": "8ce6f7e6",
   "metadata": {},
   "source": [
    "## Keep Circular Contours\n",
    "\n",
    "https://www.authentise.com/post/detecting-circular-shapes-using-contours"
   ]
  },
  {
   "cell_type": "code",
   "execution_count": null,
   "id": "44c7fbe0",
   "metadata": {},
   "outputs": [],
   "source": [
    "circles = []\n",
    "MIN_POINTS = 8\n",
    "\n",
    "# Calculate minimum area as half of mean area of 20 largest contours\n",
    "TOP_N = 22\n",
    "cnt_areas = [cv2.contourArea(x) for x in cnt]\n",
    "cnt_areas_top_n = sorted(cnt_areas)[-TOP_N:]\n",
    "cnt_areas_median = cnt_areas_top_n[TOP_N // 2]\n",
    "MIN_AREA = 0.5 * cnt_areas_median\n",
    "print(f\"Median area of top {TOP_N} contours is {cnt_areas_median}\")\n",
    "\n",
    "for i in cnt:\n",
    "    \n",
    "    # Approximate polygon closest to each contour\n",
    "    epsilon = 0.01 * cv2.arcLength(i, True)\n",
    "    approx = cv2.approxPolyDP(i, epsilon, closed=True)\n",
    "    \n",
    "    # Keep only if approximate polygon is like a circle (>8 points + non negligible area)\n",
    "    area = cv2.contourArea(i)\n",
    "    if len(approx) > MIN_POINTS and area > MIN_AREA:\n",
    "        circles.append(i)\n",
    "\n",
    "print(f\"Kept {len(circles)} of {len(cnt)} contours\")\n",
    "\n",
    "# Display results\n",
    "im_temp = copy.deepcopy(im)\n",
    "LINE_COLOR = (255, 0, 0)\n",
    "LINE_THICKNESS = 2\n",
    "cv2.drawContours(im_temp, circles, -1, LINE_COLOR, LINE_THICKNESS)\n",
    "\n",
    "# Number contours\n",
    "for idx, i in enumerate(circles):\n",
    "    m = cv2.moments(i)\n",
    "    x = int(m['m10'] / m['m00'])\n",
    "    y = int(m['m01'] / m['m00'])\n",
    "    cv2.putText(\n",
    "        im_temp, \n",
    "        text=str(idx + 1), \n",
    "        org=(x, y),\n",
    "        fontFace=cv2.FONT_HERSHEY_SIMPLEX,\n",
    "        fontScale=1,\n",
    "        color=LINE_COLOR,\n",
    "        thickness=LINE_THICKNESS,\n",
    "        lineType=cv2.LINE_AA)\n",
    "        \n",
    "\n",
    "plt.figure(figsize=(16,16))\n",
    "plt.imshow(im_temp)"
   ]
  },
  {
   "cell_type": "markdown",
   "id": "f1a6ce74",
   "metadata": {},
   "source": [
    "## Simplest matching algorithm: Pairwise ordered by area"
   ]
  },
  {
   "cell_type": "code",
   "execution_count": null,
   "id": "75ad804c",
   "metadata": {},
   "outputs": [],
   "source": [
    "# Sort by area\n",
    "circles_sorted = sorted(circles, key=lambda x: cv2.contourArea(x))\n",
    "\n",
    "# List of pairs\n",
    "odd_idx = list(range(0, len(circles_sorted) - 1, 2))\n",
    "ordered_pairs = [(circles_sorted[x], circles_sorted[x+1]) for x in odd_idx]\n",
    "\n",
    "print(f\"{len(odd_idx) * 2} of {len(circles_sorted)} contours paired\")"
   ]
  },
  {
   "cell_type": "code",
   "execution_count": null,
   "id": "718274b4",
   "metadata": {},
   "outputs": [],
   "source": [
    "# Display results\n",
    "im_temp = im.copy()\n",
    "LINE_THICKNESS = 2\n",
    "cmap = matplotlib.cm.get_cmap(\"Dark2\")\n",
    "\n",
    "for idx, i in enumerate(ordered_pairs):\n",
    "    \n",
    "    # Draw circle\n",
    "    r, g, b, a = (int(x) for x in cmap(idx % cmap.N, bytes=True))\n",
    "    line_color = (r, g, b)\n",
    "    cv2.drawContours(im_temp, i, -1, line_color, thickness=cv2.FILLED)\n",
    "    \n",
    "    for j in i:\n",
    "        # Label with pair idx\n",
    "        m = cv2.moments(j)\n",
    "        x = int(m['m10'] / m['m00'])\n",
    "        y = int(m['m01'] / m['m00'])\n",
    "        cv2.putText(\n",
    "            im_temp, \n",
    "            text=str(idx + 1), \n",
    "            org=(x, y),\n",
    "            fontFace=cv2.FONT_HERSHEY_SIMPLEX,\n",
    "            fontScale=1,\n",
    "            color=(225, 225, 225),\n",
    "            thickness=LINE_THICKNESS,\n",
    "            lineType=cv2.LINE_AA)\n",
    "    \n",
    "plt.figure(figsize=(16,16))\n",
    "plt.imshow(im_temp)"
   ]
  }
 ],
 "metadata": {
  "kernelspec": {
   "display_name": "Python 3 (ipykernel)",
   "language": "python",
   "name": "python3"
  },
  "language_info": {
   "codemirror_mode": {
    "name": "ipython",
    "version": 3
   },
   "file_extension": ".py",
   "mimetype": "text/x-python",
   "name": "python",
   "nbconvert_exporter": "python",
   "pygments_lexer": "ipython3",
   "version": "3.9.7"
  }
 },
 "nbformat": 4,
 "nbformat_minor": 5
}
