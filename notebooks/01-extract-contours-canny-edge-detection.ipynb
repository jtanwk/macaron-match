{
 "cells": [
  {
   "cell_type": "markdown",
   "id": "e69881b9",
   "metadata": {},
   "source": [
    "Inspired by https://www.ethanrosenthal.com/2020/08/25/optimal-peanut-butter-and-banana-sandwiches/"
   ]
  },
  {
   "cell_type": "code",
   "execution_count": null,
   "id": "6cfad3e6",
   "metadata": {},
   "outputs": [],
   "source": [
    "import os\n",
    "import cv2 \n",
    "import copy\n",
    "import numpy as np\n",
    "import pandas as pd\n",
    "import matplotlib.pyplot as plt"
   ]
  },
  {
   "cell_type": "code",
   "execution_count": null,
   "id": "c685c6f9",
   "metadata": {},
   "outputs": [],
   "source": [
    "IMAGE_PATH = os.path.join(\"..\", \"images\", \"test-2.jpg\")\n",
    "\n",
    "# Read image\n",
    "im = cv2.imread(IMAGE_PATH)\n",
    "im = cv2.cvtColor(im, cv2.COLOR_BGR2RGB)\n",
    "\n",
    "# Plot\n",
    "plt.figure(figsize=(16,16))\n",
    "plt.imshow(im)"
   ]
  },
  {
   "cell_type": "code",
   "execution_count": null,
   "id": "149cb368",
   "metadata": {},
   "outputs": [],
   "source": [
    "# Convert from RGB to HSV encoding\n",
    "im_hsv = cv2.cvtColor(im, cv2.COLOR_BGR2HSV)\n",
    "\n",
    "plt.figure(figsize=(16,16))\n",
    "plt.imshow(im_hsv)"
   ]
  },
  {
   "cell_type": "code",
   "execution_count": null,
   "id": "241dd52e",
   "metadata": {},
   "outputs": [],
   "source": [
    "# Extract grayscale image from HSV\n",
    "h, s, v = cv2.split(im_hsv)\n",
    "\n",
    "# Find channel with largest contrast\n",
    "contrasts = [x.std() for x in (h, s, v)]\n",
    "idx = np.argmax(contrasts)\n",
    "print(f\"Highest contrast is channel {idx}: {contrasts[idx]}\")\n",
    "im_gray = [h, s, v][idx]\n",
    "\n",
    "plt.figure(figsize=(16,16))\n",
    "plt.imshow(im_gray, cmap='gray')"
   ]
  },
  {
   "cell_type": "markdown",
   "id": "c442202d",
   "metadata": {},
   "source": [
    "## Bilateral Filtering"
   ]
  },
  {
   "cell_type": "code",
   "execution_count": null,
   "id": "a722f219",
   "metadata": {},
   "outputs": [],
   "source": [
    "# Bilateral filter to reduce noise \n",
    "filt = cv2.bilateralFilter(im_gray, 5, 175, 175)\n",
    "\n",
    "plt.figure(figsize=(16,16))\n",
    "plt.imshow(filt, cmap='gray')"
   ]
  },
  {
   "cell_type": "markdown",
   "id": "3463565f",
   "metadata": {},
   "source": [
    "## Thresholding to eliminate shadows\n",
    "\n",
    "https://docs.opencv.org/4.x/d7/d4d/tutorial_py_thresholding.html"
   ]
  },
  {
   "cell_type": "code",
   "execution_count": null,
   "id": "c4021a82",
   "metadata": {},
   "outputs": [],
   "source": [
    "# thresh = cv2.adaptiveThreshold(filt, 255, cv2.ADAPTIVE_THRESH_GAUSSIAN_C, cv2.THRESH_BINARY, 9, 3)\n",
    "\n",
    "# plt.figure(figsize=(16,16))`\n",
    "# plt.imshow(thresh, cmap='gray')"
   ]
  },
  {
   "cell_type": "code",
   "execution_count": null,
   "id": "a5c17a65",
   "metadata": {},
   "outputs": [],
   "source": [
    "# kernel = np.ones((2, 2), np.uint8)\n",
    "# thresh_bw = 255 - thresh\n",
    "\n",
    "# eroded = cv2.erode(thresh_bw, kernel, iterations=2)\n",
    "# closed = cv2.dilate(eroded, kernel, iterations=2)\n",
    "\n",
    "# plt.figure(figsize=(16,16))\n",
    "# plt.imshow(closed, cmap='gray')"
   ]
  },
  {
   "cell_type": "markdown",
   "id": "7d735a3c",
   "metadata": {},
   "source": [
    "## Edge Detection"
   ]
  },
  {
   "cell_type": "code",
   "execution_count": null,
   "id": "0a763427",
   "metadata": {},
   "outputs": [],
   "source": [
    "# Calculate lower and upper threshold based on mean +/- 2sd\n",
    "SIGMA = 0.33\n",
    "median = np.mean(filt)\n",
    "canny_low = int(max(0, (1 - SIGMA) * median))\n",
    "canny_high = int(min(255, (1  + SIGMA) * median))\n",
    "print(canny_low, canny_high)\n",
    "\n",
    "canny = cv2.Canny(filt, 100, 150)\n",
    "\n",
    "plt.figure(figsize=(16,16))\n",
    "plt.imshow(canny, cmap='gray')"
   ]
  },
  {
   "cell_type": "markdown",
   "id": "d89964e1",
   "metadata": {},
   "source": [
    "## Remove horizonal and vertical lines\n",
    "\n",
    "https://stackoverflow.com/questions/46274961/removing-horizontal-lines-in-image-opencv-python-matplotlib"
   ]
  },
  {
   "cell_type": "code",
   "execution_count": null,
   "id": "0c01282d",
   "metadata": {},
   "outputs": [],
   "source": [
    "# h_kernel = cv2.getStructuringElement(cv2.MORPH_RECT, (25, 1))\n",
    "# h_line_img = cv2.morphologyEx(canny, cv2.MORPH_OPEN, h_kernel, iterations=1)\n",
    "# h_line_img = cv2.dilate(h_line_img, h_kernel, iterations=1)\n",
    "# h_line_cnt, _ = cv2.findContours(h_line_img, cv2.RETR_EXTERNAL, cv2.CHAIN_APPROX_SIMPLE)\n",
    "\n",
    "# plt.figure(figsize=(16,16))\n",
    "# plt.imshow(h_line_img, cmap='gray')"
   ]
  },
  {
   "cell_type": "code",
   "execution_count": null,
   "id": "abe41621",
   "metadata": {},
   "outputs": [],
   "source": [
    "# v_kernel = cv2.getStructuringElement(cv2.MORPH_RECT, (1, 25))\n",
    "# v_line_img = cv2.morphologyEx(canny, cv2.MORPH_OPEN, v_kernel, iterations=1)\n",
    "# v_line_img = cv2.dilate(v_line_img, v_kernel, iterations=1)\n",
    "# v_line_cnt, _ = cv2.findContours(v_line_img, cv2.RETR_EXTERNAL, cv2.CHAIN_APPROX_SIMPLE)\n",
    "\n",
    "# plt.figure(figsize=(16,16))\n",
    "# plt.imshow(v_line_img, cmap='gray')"
   ]
  },
  {
   "cell_type": "code",
   "execution_count": null,
   "id": "af7c18cc",
   "metadata": {},
   "outputs": [],
   "source": [
    "# canny_temp = copy.deepcopy(canny)\n",
    "# LINE_COLOR = (0, 0, 0)\n",
    "# LINE_THICKNESS = 3\n",
    "# cv2.drawContours(canny_temp, h_line_cnt, -1, LINE_COLOR, LINE_THICKNESS)\n",
    "# cv2.drawContours(canny_temp, v_line_cnt, -1, LINE_COLOR, LINE_THICKNESS)\n",
    "\n",
    "# plt.figure(figsize=(16,16))\n",
    "# plt.imshow(canny_temp, cmap='gray')"
   ]
  },
  {
   "cell_type": "markdown",
   "id": "11601c21",
   "metadata": {},
   "source": [
    "## Thresholding to strengthen canny edges\n",
    "\n",
    "https://docs.opencv.org/4.x/d7/d4d/tutorial_py_thresholding.html"
   ]
  },
  {
   "cell_type": "code",
   "execution_count": null,
   "id": "0f674475",
   "metadata": {},
   "outputs": [],
   "source": [
    "# kernel = np.ones((2, 2), np.uint8)\n",
    "\n",
    "# closed = cv2.morphologyEx(canny, cv2.MORPH_CLOSE, kernel, iterations=2)\n",
    "\n",
    "# plt.figure(figsize=(16,16))\n",
    "# plt.imshow(closed, cmap='gray')"
   ]
  },
  {
   "cell_type": "markdown",
   "id": "eae3fd7e",
   "metadata": {},
   "source": [
    "## Find Contours"
   ]
  },
  {
   "cell_type": "code",
   "execution_count": null,
   "id": "2ad5b510",
   "metadata": {},
   "outputs": [],
   "source": [
    "cnt, hierarchy = cv2.findContours(canny, cv2.RETR_EXTERNAL, cv2.CHAIN_APPROX_SIMPLE)\n",
    "print(f\"Detected {len(cnt)} contours\")\n",
    "\n",
    "im_temp = copy.deepcopy(im)\n",
    "LINE_COLOR = (255, 0, 0)\n",
    "LINE_THICKNESS = 2\n",
    "cv2.drawContours(im_temp, cnt, -1, LINE_COLOR, LINE_THICKNESS)\n",
    "\n",
    "plt.figure(figsize=(16,16))\n",
    "plt.imshow(im_temp)"
   ]
  },
  {
   "cell_type": "markdown",
   "id": "8ce6f7e6",
   "metadata": {},
   "source": [
    "## Keep Circular Contours\n",
    "\n",
    "https://www.authentise.com/post/detecting-circular-shapes-using-contours"
   ]
  },
  {
   "cell_type": "code",
   "execution_count": null,
   "id": "44c7fbe0",
   "metadata": {},
   "outputs": [],
   "source": [
    "circles = []\n",
    "non_circles = []\n",
    "MIN_POINTS = 8\n",
    "\n",
    "# Calculate minimum area as half of mean area of 20 largest contours\n",
    "TOP_N = 30\n",
    "cnt_areas = [cv2.contourArea(x) for x in cnt]\n",
    "cnt_areas_top_n = sorted(cnt_areas)[-TOP_N:]\n",
    "cnt_areas_median = cnt_areas_top_n[TOP_N // 2]\n",
    "MIN_AREA = 0.5 * cnt_areas_median\n",
    "print(f\"Median area of top {TOP_N} contours is {cnt_areas_median}\")\n",
    "\n",
    "for i in cnt:\n",
    "    \n",
    "    # Approximate polygon closest to each contour\n",
    "    epsilon = 0.01 * cv2.arcLength(i, True)\n",
    "    approx = cv2.approxPolyDP(i, epsilon, closed=True)\n",
    "    \n",
    "    # Keep only if approximate polygon is like a circle (>8 points + non negligible area)\n",
    "    area = cv2.contourArea(i)\n",
    "    if len(approx) > MIN_POINTS and area > MIN_AREA:\n",
    "        circles.append(i)\n",
    "    else:\n",
    "        non_circles.append(i)\n",
    "\n",
    "print(f\"Kept {len(circles)} of {len(cnt)} contours\")\n",
    "\n",
    "# Display results\n",
    "im_temp = copy.deepcopy(im)\n",
    "LINE_COLOR = (255, 0, 0)\n",
    "LINE_THICKNESS = 2\n",
    "cv2.drawContours(im_temp, circles, -1, LINE_COLOR, LINE_THICKNESS)\n",
    "\n",
    "# Number contours\n",
    "for idx, i in enumerate(circles):\n",
    "    m = cv2.moments(i)\n",
    "    x = int(m['m10'] / m['m00'])\n",
    "    y = int(m['m01'] / m['m00'])\n",
    "    cv2.putText(\n",
    "        im_temp, \n",
    "        text=str(idx + 1), \n",
    "        org=(x, y),\n",
    "        fontFace=cv2.FONT_HERSHEY_SIMPLEX,\n",
    "        fontScale=1,\n",
    "        color=LINE_COLOR,\n",
    "        thickness=LINE_THICKNESS,\n",
    "        lineType=cv2.LINE_AA)\n",
    "        \n",
    "\n",
    "plt.figure(figsize=(16,16))\n",
    "plt.imshow(im_temp)"
   ]
  }
 ],
 "metadata": {
  "kernelspec": {
   "display_name": "Python 3 (ipykernel)",
   "language": "python",
   "name": "python3"
  },
  "language_info": {
   "codemirror_mode": {
    "name": "ipython",
    "version": 3
   },
   "file_extension": ".py",
   "mimetype": "text/x-python",
   "name": "python",
   "nbconvert_exporter": "python",
   "pygments_lexer": "ipython3",
   "version": "3.9.7"
  }
 },
 "nbformat": 4,
 "nbformat_minor": 5
}
